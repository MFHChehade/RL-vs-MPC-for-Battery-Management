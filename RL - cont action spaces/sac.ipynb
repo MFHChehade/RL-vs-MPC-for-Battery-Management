{
 "cells": [
  {
   "cell_type": "code",
   "execution_count": 1,
   "metadata": {},
   "outputs": [
    {
     "ename": "ModuleNotFoundError",
     "evalue": "No module named 'rl_monitoring_utils.plotting'",
     "output_type": "error",
     "traceback": [
      "\u001b[1;31m---------------------------------------------------------------------------\u001b[0m",
      "\u001b[1;31mModuleNotFoundError\u001b[0m                       Traceback (most recent call last)",
      "Cell \u001b[1;32mIn[1], line 3\u001b[0m\n\u001b[0;32m      1\u001b[0m \u001b[38;5;66;03m# Import necessary libraries\u001b[39;00m\n\u001b[0;32m      2\u001b[0m \u001b[38;5;28;01mfrom\u001b[39;00m \u001b[38;5;21;01menvironments\u001b[39;00m\u001b[38;5;21;01m.\u001b[39;00m\u001b[38;5;21;01menergy_management_env\u001b[39;00m \u001b[38;5;28;01mimport\u001b[39;00m EnergyManagementEnv\n\u001b[1;32m----> 3\u001b[0m \u001b[38;5;28;01mfrom\u001b[39;00m \u001b[38;5;21;01mrl_monitoring_utils\u001b[39;00m\u001b[38;5;21;01m.\u001b[39;00m\u001b[38;5;21;01mplotting\u001b[39;00m \u001b[38;5;28;01mimport\u001b[39;00m plot_results\n\u001b[0;32m      4\u001b[0m \u001b[38;5;28;01mfrom\u001b[39;00m \u001b[38;5;21;01magents\u001b[39;00m\u001b[38;5;21;01m.\u001b[39;00m\u001b[38;5;21;01magent\u001b[39;00m \u001b[38;5;28;01mimport\u001b[39;00m Agent\n\u001b[0;32m      5\u001b[0m \u001b[38;5;28;01mfrom\u001b[39;00m \u001b[38;5;21;01menvironments\u001b[39;00m\u001b[38;5;21;01m.\u001b[39;00m\u001b[38;5;21;01menv_registration\u001b[39;00m \u001b[38;5;28;01mimport\u001b[39;00m register_env\n",
      "\u001b[1;31mModuleNotFoundError\u001b[0m: No module named 'rl_monitoring_utils.plotting'"
     ]
    }
   ],
   "source": [
    "# Import necessary libraries\n",
    "from environments.energy_management_env import EnergyManagementEnv\n",
    "from rl_monitoring_utils.plotting import plot_results\n",
    "from agents.agent import Agent\n",
    "from environments.env_registration import register_env\n",
    "from agents.agent import Agent\n",
    "\n",
    "# Register the custom environment\n",
    "env_params = {\n",
    "    'SOC_min': 0.2,\n",
    "    'SOC_max': 0.8,\n",
    "    'E': 5000,\n",
    "    'lambda_val': 0.1,\n",
    "    'data_path': 'data/Data_input.csv',\n",
    "    'initial_SOC': 0.5  # Set to None if not using an initial_SOC\n",
    "}\n",
    "register_env('EnergyManagement-v0', 'environments.env_registration:environment_creator', {'environment_class': EnergyManagementEnv, **env_params})\n",
    "\n",
    "# Define environment ID\n",
    "env_id = 'EnergyManagement-v0'\n",
    "\n",
    "# Define total timesteps and number of environments for training\n",
    "total_timesteps = 0.7e6\n",
    "num_envs = 8\n",
    "\n",
    "# Create a dictionary to store agents with their names\n",
    "agents = {\n",
    "    # 'ppo_agent': Agent(env_id, 'ppo', num_envs=num_envs),\n",
    "    # 'trpo_agent': Agent(env_id, 'trpo', num_envs=num_envs),\n",
    "    'sac_agent': Agent(env_id, 'sac', num_envs=num_envs),\n",
    "    'ddpg_agent': Agent(env_id, 'ddpg', num_envs=num_envs),\n",
    "}\n",
    "\n",
    "# Train agents\n",
    "for agent_name, agent in agents.items():\n",
    "    agent.train(total_timesteps=total_timesteps)\n",
    "    reward = agent.evaluate()\n",
    "    print(f'{agent_name} reward: {reward}')\n",
    "\n",
    "# Plot results for all agents\n",
    "log_dirs = [agent.get_log_dir() for agent in agents.values()]\n",
    "plot_results(log_dirs)\n"
   ]
  }
 ],
 "metadata": {
  "kernelspec": {
   "display_name": "Python 3",
   "language": "python",
   "name": "python3"
  },
  "language_info": {
   "codemirror_mode": {
    "name": "ipython",
    "version": 3
   },
   "file_extension": ".py",
   "mimetype": "text/x-python",
   "name": "python",
   "nbconvert_exporter": "python",
   "pygments_lexer": "ipython3",
   "version": "3.11.9"
  }
 },
 "nbformat": 4,
 "nbformat_minor": 2
}
