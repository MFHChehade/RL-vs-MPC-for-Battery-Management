{
 "cells": [
  {
   "cell_type": "code",
   "execution_count": 1,
   "metadata": {},
   "outputs": [
    {
     "name": "stdout",
     "output_type": "stream",
     "text": [
      "960431/1000000:-6.2406345553841615\r"
     ]
    }
   ],
   "source": [
    "# Import necessary libraries\n",
    "import os\n",
    "import gym\n",
    "from environments.energy_management_env import EnergyManagementEnv\n",
    "\n",
    "# Import the Agent class from your code\n",
    "\n",
    "\n",
    "# Import environment registration function\n",
    "from environments.env_registration import register_env\n",
    "\n",
    "# Define environment parameters\n",
    "env_params = {\n",
    "    'SOC_min': 0.2,\n",
    "    'SOC_max': 0.8,\n",
    "    'E': 1000,\n",
    "    'lambda_val': 0.1,\n",
    "    'data_path': 'data/Data_input.csv',\n",
    "    'initial_SOC': 0.5  # Set to None if not using an initial_SOC\n",
    "}\n",
    "\n",
    "# Register the custom environment\n",
    "register_env('EnergyManagement-v0', 'environments.env_registration:environment_creator',{'environment_class': EnergyManagementEnv, **env_params})\n",
    "\n",
    "# run DQN on energy management \n",
    "import numpy as np\n",
    "import gym\n",
    "import seaborn as sns\n",
    "import matplotlib.pyplot as plt\n",
    "\n",
    "from rl_monitoring_utils.vectorized_env_wrapper import VectorizedEnvWrapper\n",
    "from agents.dqn import DeepQLearner, DQN\n",
    "from learning_utils.replay_buffer import ReplayBuffer\n",
    "\n",
    "energy_management = VectorizedEnvWrapper(gym.make(\"EnergyManagement-v0\"), num_envs=32)\n",
    "agent = DeepQLearner(energy_management, alpha=1e-4, gamma=1, epsilon_f=0.05, clip_grad = 1e6)\n",
    "replay_buffer = ReplayBuffer(batch_size=32)\n",
    "_, returns = DQN(energy_management, agent, replay_buffer, T=1000000)   "
   ]
  }
 ],
 "metadata": {
  "kernelspec": {
   "display_name": "Python 3",
   "language": "python",
   "name": "python3"
  },
  "language_info": {
   "codemirror_mode": {
    "name": "ipython",
    "version": 3
   },
   "file_extension": ".py",
   "mimetype": "text/x-python",
   "name": "python",
   "nbconvert_exporter": "python",
   "pygments_lexer": "ipython3",
   "version": "3.11.9"
  }
 },
 "nbformat": 4,
 "nbformat_minor": 2
}
